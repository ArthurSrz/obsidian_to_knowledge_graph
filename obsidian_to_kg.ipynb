{
 "cells": [
  {
   "cell_type": "code",
   "execution_count": null,
   "id": "614fc4e2-0e04-49b0-bf7c-05efee48933f",
   "metadata": {},
   "outputs": [],
   "source": [
    "from llama_index.readers.obsidian import ObsidianReader\n",
    "from llama_index.core.memory.chat_memory_buffer import MessageRole\n",
    "from llama_index.core import SimpleDirectoryReader, KnowledgeGraphIndex, VectorStoreIndex, StorageContext\n",
    "from llama_index.core.graph_stores import SimpleGraphStore\n",
    "from llama_index.core.storage.docstore import SimpleDocumentStore\n",
    "from llama_index.core.storage.index_store import SimpleIndexStore\n",
    "from llama_index.core.vector_stores import SimpleVectorStore\n",
    "from llama_index.core import Settings\n",
    "from IPython.display import Markdown, display\n",
    "from llama_index.llms.ollama import Ollama\n",
    "from tqdm.notebook import tqdm\n",
    "import time\n",
    "import os\n",
    "from llama_index.embeddings.ollama import OllamaEmbedding\n",
    "from llama_index.embeddings.huggingface import HuggingFaceEmbedding\n",
    "from llama_index.embeddings.openai import OpenAIEmbedding\n",
    "from llama_index.llms.openai import OpenAI\n",
    "import logging\n",
    "import sys\n",
    "import ipywidgets as widgets\n",
    "import json\n",
    "from llama_index.core.callbacks import CallbackManager\n",
    "from llama_index.core.callbacks import LlamaDebugHandler\n",
    "from llama_index.core import ServiceContext\n",
    "from llama_index.core.query_engine import RetrieverQueryEngine\n",
    "from llama_index.core.retrievers import KnowledgeGraphRAGRetriever"
   ]
  },
  {
   "cell_type": "code",
   "execution_count": null,
   "id": "b5e9f925-0bd9-406c-a41d-8be268260b0f",
   "metadata": {},
   "outputs": [],
   "source": [
    "from llama_index.core import (\n",
    "    load_index_from_storage,\n",
    "    load_indices_from_storage,\n",
    "    load_graph_from_storage,\n",
    ")"
   ]
  },
  {
   "cell_type": "code",
   "execution_count": null,
   "id": "17dd9f9d-7e21-49ef-9a01-d8b0dd7fdc24",
   "metadata": {},
   "outputs": [],
   "source": [
    "logging.basicConfig(stream=sys.stdout, level=logging.INFO)\n",
    "logging.getLogger().addHandler(logging.StreamHandler(stream=sys.stdout))"
   ]
  },
  {
   "cell_type": "markdown",
   "id": "0fc2e828-7a94-463f-89b0-2d75521319a7",
   "metadata": {},
   "source": [
    "# Build a simple directory"
   ]
  },
  {
   "cell_type": "code",
   "execution_count": null,
   "id": "280f6ae9-b082-4a6d-8705-12849fb1a08c",
   "metadata": {},
   "outputs": [],
   "source": [
    "simple_documents = SimpleDirectoryReader(\n",
    "    r\"path_to_your_obsisian_vault\"\n",
    ").load_data()"
   ]
  },
  {
   "cell_type": "markdown",
   "id": "42ecd2f3-059f-4cd8-b0ed-97e95ee5075e",
   "metadata": {},
   "source": [
    "# Build the knowledge graph"
   ]
  },
  {
   "cell_type": "code",
   "execution_count": null,
   "id": "75723dc1-fe8b-4ef7-bf0c-c702eba7ab14",
   "metadata": {},
   "outputs": [],
   "source": [
    "os.environ[\"OPENAI_API_KEY\"] = \"your_openai_api_key\""
   ]
  },
  {
   "cell_type": "code",
   "execution_count": null,
   "id": "3d414a6d-46da-43dd-ad82-44f404c86ae1",
   "metadata": {
    "scrolled": true
   },
   "outputs": [],
   "source": [
    "#locate obsidian files that make your graph\n",
    "filepath = r\"path_to_your_obsisian_vault\"\n",
    "\n",
    "#load the graph files \n",
    "graph_files = ObsidianReader(filepath).load_data()\n",
    "print(list(graph_files))"
   ]
  },
  {
   "cell_type": "markdown",
   "id": "fe5efb9f-d02f-490e-966c-f490b5e9db3e",
   "metadata": {},
   "source": [
    "# Set LLM to chat with your graph (OpenAI)"
   ]
  },
  {
   "cell_type": "code",
   "execution_count": null,
   "id": "a30f2c04-d01b-47ce-a532-c6c8fb4ee42c",
   "metadata": {},
   "outputs": [],
   "source": [
    "llm = OpenAI(temperature=0, model=\"gpt-4o\", max_tokens=3000)\n",
    "Settings.llm = llm\n",
    "Settings.chunk_size = 512"
   ]
  },
  {
   "cell_type": "markdown",
   "id": "6a010330-bc6a-4e1c-8605-16afe8200585",
   "metadata": {},
   "source": [
    "# Set local LLM for embeddings"
   ]
  },
  {
   "cell_type": "code",
   "execution_count": null,
   "id": "aa6be1f9-b33d-400a-a471-eeeeb35c0448",
   "metadata": {},
   "outputs": [],
   "source": [
    "# bge-base embedding model\n",
    "Settings.embed_model = HuggingFaceEmbedding(model_name=\"BAAI/bge-base-en-v1.5\")\n",
    "#Settings.embed_model = OpenAIEmbedding(model=\"text-embedding-3-small\")\n"
   ]
  },
  {
   "cell_type": "markdown",
   "id": "d9b83af3-ff18-40f0-8469-5c8b2a75b5dd",
   "metadata": {},
   "source": [
    "# Instantiate graph store "
   ]
  },
  {
   "cell_type": "code",
   "execution_count": null,
   "id": "e12d5f9c-03ea-4af6-a3ad-c1764d08e99b",
   "metadata": {},
   "outputs": [],
   "source": [
    "graph_store = SimpleGraphStore()\n",
    "graph_storage_context = StorageContext.from_defaults(graph_store=graph_store)"
   ]
  },
  {
   "cell_type": "markdown",
   "id": "b94eacca-42e3-4140-a620-c199f3578e6e",
   "metadata": {},
   "source": [
    "# Construct Index"
   ]
  },
  {
   "cell_type": "markdown",
   "id": "ff6a821e-abd8-4cb4-b2dc-98163aa332df",
   "metadata": {},
   "source": [
    "## Construct Vector Store Index"
   ]
  },
  {
   "cell_type": "code",
   "execution_count": null,
   "id": "85a848e5-77d1-4b44-864f-638a619f2410",
   "metadata": {},
   "outputs": [],
   "source": [
    "simple_doc_index = VectorStoreIndex.from_documents(\n",
    "    simple_documents,\n",
    "    show_progress=True)"
   ]
  },
  {
   "cell_type": "code",
   "execution_count": null,
   "id": "dfc08a9b-6b3b-4e7b-b246-8375aecb5264",
   "metadata": {},
   "outputs": [],
   "source": [
    "# save index to disk\n",
    "simple_doc_index.set_index_id(\"vector_index\")\n",
    "simple_doc_index.storage_context.persist(\"./vector\")"
   ]
  },
  {
   "cell_type": "markdown",
   "id": "6061a476-f5cc-4805-ad25-6e1533e787e5",
   "metadata": {},
   "source": [
    "## Construct knowledge graph index "
   ]
  },
  {
   "cell_type": "code",
   "execution_count": null,
   "id": "250b454a-f598-4749-8847-f59fa3a36a47",
   "metadata": {},
   "outputs": [],
   "source": [
    "def process_document(doc):\n",
    "    # This function will be called for each document\n",
    "    print(f\"Processing document: {doc.doc_id}\")\n",
    "    return doc"
   ]
  },
  {
   "cell_type": "code",
   "execution_count": null,
   "id": "3ca242f4-8ce0-4599-a888-eccc840b1587",
   "metadata": {},
   "outputs": [],
   "source": [
    "# Assuming you have your graph files loaded\n",
    "print(f\"Starting to process {len(graph_files)} documents...\")"
   ]
  },
  {
   "cell_type": "code",
   "execution_count": null,
   "id": "73397fd8-2bb8-41c3-ae12-f64621c9fa54",
   "metadata": {
    "scrolled": true
   },
   "outputs": [],
   "source": [
    "# Wrap your document processing in a progress bar\n",
    "graph_index = KnowledgeGraphIndex.from_documents(\n",
    "        documents=[process_document(doc) for doc in graph_files],  # process one document at a time\n",
    "        max_triplets_per_chunk=2,\n",
    "        storage_context=graph_storage_context,\n",
    "        include_embeddings=True,\n",
    "    show_progress=True,\n",
    ")\n"
   ]
  },
  {
   "cell_type": "code",
   "execution_count": null,
   "id": "7e2e5de7-68d1-4b89-b1c2-e703f31419d7",
   "metadata": {
    "scrolled": true
   },
   "outputs": [],
   "source": [
    "graph_storage_context.persist(persist_dir=\"knowledge-graph\")"
   ]
  },
  {
   "cell_type": "markdown",
   "id": "47252b4e-eb58-453c-9e7d-bab5286ee296",
   "metadata": {},
   "source": [
    "# Load storage contexts"
   ]
  },
  {
   "cell_type": "markdown",
   "id": "ca1e8019-e150-4a60-b59d-cac7a4aebcba",
   "metadata": {},
   "source": [
    "## Load vector storage context"
   ]
  },
  {
   "cell_type": "code",
   "execution_count": null,
   "id": "42c55a04-2b21-4c05-96fb-f0f9ce26bb79",
   "metadata": {},
   "outputs": [],
   "source": [
    "vector_storage_context = StorageContext.from_defaults(\n",
    "    docstore=SimpleDocumentStore.from_persist_dir(persist_dir=\"vector\"),\n",
    "    vector_store=SimpleVectorStore.from_persist_dir(\n",
    "        persist_dir=\"vector\"\n",
    "    ),\n",
    "    index_store=SimpleIndexStore.from_persist_dir(persist_dir=\"vector\"),\n",
    ")"
   ]
  },
  {
   "cell_type": "markdown",
   "id": "564b951a-9776-46da-9309-142acfc3f1dd",
   "metadata": {},
   "source": [
    "## Load graph storage index"
   ]
  },
  {
   "cell_type": "code",
   "execution_count": null,
   "id": "a086ef48-3be3-4a12-b158-4ed50aa2b917",
   "metadata": {},
   "outputs": [],
   "source": [
    "graph_storage_context = StorageContext.from_defaults(\n",
    "    docstore=SimpleDocumentStore.from_persist_dir(persist_dir=\"knowledge-graph\"),\n",
    "    vector_store=SimpleVectorStore.from_persist_dir(\n",
    "        persist_dir=\"knowledge-graph\"\n",
    "    ),\n",
    "    index_store=SimpleIndexStore.from_persist_dir(persist_dir=\"knowledge-graph\"),\n",
    ")"
   ]
  },
  {
   "cell_type": "markdown",
   "id": "261c3f5b-f0fa-4e10-85fd-9ff7642de428",
   "metadata": {},
   "source": [
    "# Load index"
   ]
  },
  {
   "cell_type": "markdown",
   "id": "ccb3e85a-8fca-4138-9ff9-fca4637a47e2",
   "metadata": {},
   "source": [
    "## Load vector index"
   ]
  },
  {
   "cell_type": "code",
   "execution_count": null,
   "id": "68274006-61a7-42d7-9556-6ddae87d2b07",
   "metadata": {},
   "outputs": [],
   "source": [
    "simple_index = load_index_from_storage(vector_storage_context)"
   ]
  },
  {
   "cell_type": "markdown",
   "id": "f8cdab09-2c63-4e23-9ca3-79102db74cf0",
   "metadata": {},
   "source": [
    "### Retrieve inside vector index"
   ]
  },
  {
   "cell_type": "code",
   "execution_count": null,
   "id": "a6c3e925-229f-4636-a7b7-73687a3aa7eb",
   "metadata": {},
   "outputs": [],
   "source": [
    "simple_query_engine = simple_index.as_query_engine(\n",
    " include_text=True,\n",
    " response_mode=\"tree_summarize\",\n",
    " embedding_mode=\"hybrid\",\n",
    " similarity_top_k=8,\n",
    ")"
   ]
  },
  {
   "cell_type": "code",
   "execution_count": null,
   "id": "887f57e4-8bc9-440b-a84c-0080cbd412e7",
   "metadata": {},
   "outputs": [],
   "source": [
    "simple_rag_retriever = simple_index.as_retriever(\n",
    "    retriever_mode=\"hybrid\",  # or \"embedding\" or \"hybrid\"\n",
    "    verbose=True\n",
    ")\n",
    "\n",
    "response = simple_query_engine.query(\n",
    "    \"Quel est le sujet principal des documents ?\",\n",
    ")"
   ]
  },
  {
   "cell_type": "code",
   "execution_count": null,
   "id": "f014fd60-81a4-4b7f-aef9-f545402e0fa5",
   "metadata": {},
   "outputs": [],
   "source": [
    "display(Markdown(f\"<b>{response}</b>\"))"
   ]
  },
  {
   "cell_type": "markdown",
   "id": "4242ad8d-20fb-4126-9380-4d51c7e3fa32",
   "metadata": {},
   "source": [
    "## Load graph index"
   ]
  },
  {
   "cell_type": "code",
   "execution_count": null,
   "id": "75e3c260-c349-43f0-b54c-6dac7a12586f",
   "metadata": {},
   "outputs": [],
   "source": [
    "graph_index = load_index_from_storage(graph_storage_context)"
   ]
  },
  {
   "cell_type": "markdown",
   "id": "dc04c404-faef-4062-ba96-2871deb5126e",
   "metadata": {},
   "source": [
    "### Retrieve inside graph index"
   ]
  },
  {
   "cell_type": "code",
   "execution_count": null,
   "id": "36164a11-8ae8-4fbb-be39-48f849c8eb02",
   "metadata": {},
   "outputs": [],
   "source": [
    "graph_query_engine = graph_index.as_query_engine(\n",
    " include_text=True,\n",
    " response_mode=\"tree_summarize\",\n",
    " embedding_mode=\"hybrid\",\n",
    " similarity_top_k=8,\n",
    ")"
   ]
  },
  {
   "cell_type": "code",
   "execution_count": null,
   "id": "83537bbe-ac8f-435c-a485-eee1b6e823f3",
   "metadata": {},
   "outputs": [],
   "source": [
    "graph_rag_retriever = graph_index.as_retriever(\n",
    "    retriever_mode=\"hybrid\",  # or \"embedding\" or \"hybrid\"\n",
    "    verbose=True\n",
    ")\n",
    "\n",
    "response = graph_query_engine.query(\n",
    "    \"Quel est le sujet principal des documents ?\",\n",
    ")"
   ]
  },
  {
   "cell_type": "code",
   "execution_count": null,
   "id": "d1031a44-f06e-400f-beaa-2065beeee9a9",
   "metadata": {},
   "outputs": [],
   "source": [
    "display(Markdown(f\"<b>{response}</b>\"))"
   ]
  }
 ],
 "metadata": {
  "kernelspec": {
   "display_name": "Python 3 (ipykernel)",
   "language": "python",
   "name": "python3"
  },
  "language_info": {
   "codemirror_mode": {
    "name": "ipython",
    "version": 3
   },
   "file_extension": ".py",
   "mimetype": "text/x-python",
   "name": "python",
   "nbconvert_exporter": "python",
   "pygments_lexer": "ipython3",
   "version": "3.12.4"
  }
 },
 "nbformat": 4,
 "nbformat_minor": 5
}
